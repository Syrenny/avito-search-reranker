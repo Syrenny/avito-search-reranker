{
 "cells": [
  {
   "cell_type": "markdown",
   "id": "3c66ea8a",
   "metadata": {},
   "source": [
    "### 📘 L1-ranking: fast candidate cut (DuckDB)\n"
   ]
  },
  {
   "cell_type": "code",
   "execution_count": 1,
   "id": "133f887c",
   "metadata": {},
   "outputs": [],
   "source": [
    "import os\n",
    "import duckdb as ddb"
   ]
  },
  {
   "cell_type": "code",
   "execution_count": 2,
   "id": "6c7365ca",
   "metadata": {},
   "outputs": [],
   "source": [
    "%config SqlMagic.autopandas = True\n",
    "%config SqlMagic.feedback = False\n",
    "%config SqlMagic.displaycon = False"
   ]
  },
  {
   "cell_type": "code",
   "execution_count": 3,
   "id": "6eed13c2",
   "metadata": {},
   "outputs": [],
   "source": [
    "DATA_DIR = \"../data/raw\"  # где лежат parquet с \"core\" или полными фичами/текстами\n",
    "TRAIN_PARQUET = os.path.join(\n",
    "    DATA_DIR, \"train-dset-001.parquet\"\n",
    ")  # или твой файл с текстами\n",
    "TEST_PARQUET = os.path.join(DATA_DIR, \"test-dset-small.parquet\")\n",
    "\n",
    "OUT_DIR = \"../data/transformed\"\n",
    "os.makedirs(OUT_DIR, exist_ok=True)\n",
    "N_Q_TRAIN = 200_000  # число запросов для train\n",
    "K = 500  # целевой cut per query (подберём ниже по Recall@K)\n",
    "USE_STEMMER = \"russian\"  # если тексты русские; можно 'none'"
   ]
  },
  {
   "cell_type": "code",
   "execution_count": 4,
   "id": "de42d06d",
   "metadata": {},
   "outputs": [
    {
     "data": {
      "text/plain": [
       "<_duckdb.DuckDBPyConnection at 0x79f2adfa7ab0>"
      ]
     },
     "execution_count": 4,
     "metadata": {},
     "output_type": "execute_result"
    }
   ],
   "source": [
    "# Инициализация DuckDB\n",
    "TMP_DIR = \"./duck_tmp\"\n",
    "os.makedirs(TMP_DIR, exist_ok=True)\n",
    "\n",
    "con = ddb.connect()\n",
    "con.execute(\"PRAGMA threads=2;\")  # меньше потоков — меньше пиковая RAM\n",
    "con.execute(\"PRAGMA memory_limit='6GB';\")  # подбери под свою машину (например, 6–8 GB)\n",
    "con.execute(f\"PRAGMA temp_directory='{os.path.abspath(TMP_DIR)}';\")  # спиллы на диск\n",
    "# опционально: прогресс\n",
    "con.execute(\"PRAGMA enable_progress_bar=true;\")"
   ]
  },
  {
   "cell_type": "code",
   "execution_count": 5,
   "id": "b5245b6b",
   "metadata": {},
   "outputs": [
    {
     "name": "stdout",
     "output_type": "stream",
     "text": [
      "Train size: 7781790\n",
      "Test size:  335348\n"
     ]
    },
    {
     "name": "stdout",
     "output_type": "stream",
     "text": [
      "Train queries: 678190\n",
      "Test queries:  12505\n"
     ]
    }
   ],
   "source": [
    "con.execute(\n",
    "    f\"CREATE OR REPLACE VIEW train_raw AS SELECT * FROM read_parquet('{TRAIN_PARQUET}');\"\n",
    ")\n",
    "con.execute(\n",
    "    f\"CREATE OR REPLACE VIEW test_raw  AS SELECT * FROM read_parquet('{TEST_PARQUET}');\"\n",
    ")\n",
    "\n",
    "con.execute(\"\"\"\n",
    "    INSTALL fts;\n",
    "    LOAD fts;\n",
    "\"\"\")\n",
    "\n",
    "con.execute(\n",
    "    f\"CREATE OR REPLACE VIEW train_raw AS SELECT * FROM read_parquet('{TRAIN_PARQUET}');\"\n",
    ")\n",
    "con.execute(\n",
    "    f\"CREATE OR REPLACE VIEW test_raw  AS SELECT * FROM read_parquet('{TEST_PARQUET}');\"\n",
    ")\n",
    "\n",
    "print(\"Train size:\", con.execute(\"SELECT COUNT(*) FROM train_raw;\").fetchone()[0])\n",
    "print(\"Test size: \", con.execute(\"SELECT COUNT(*) FROM test_raw;\").fetchone()[0])\n",
    "print(\n",
    "    \"Train queries:\",\n",
    "    con.execute(\"SELECT COUNT(DISTINCT query_id) FROM train_raw;\").fetchone()[0],\n",
    ")\n",
    "print(\n",
    "    \"Test queries: \",\n",
    "    con.execute(\"SELECT COUNT(DISTINCT query_id) FROM test_raw;\").fetchone()[0],\n",
    ")"
   ]
  },
  {
   "cell_type": "code",
   "execution_count": 6,
   "id": "c8dcda3a",
   "metadata": {},
   "outputs": [
    {
     "data": {
      "application/vnd.jupyter.widget-view+json": {
       "model_id": "19231aedfa6646bdaccd85cc8c30d5d0",
       "version_major": 2,
       "version_minor": 0
      },
      "text/plain": [
       "FloatProgress(value=0.0, layout=Layout(width='auto'), style=ProgressStyle(bar_color='black'))"
      ]
     },
     "metadata": {},
     "output_type": "display_data"
    },
    {
     "name": "stdout",
     "output_type": "stream",
     "text": [
      "Уникальных train query_id: 200000\n",
      "Уникальных test query_id: 335348\n"
     ]
    }
   ],
   "source": [
    "# случайные 500k уникальных query_id для train\n",
    "con.execute(f\"\"\"\n",
    "    CREATE OR REPLACE TEMP TABLE sample_q_train AS\n",
    "    SELECT query_id\n",
    "    FROM (\n",
    "      SELECT DISTINCT query_id, random() AS r\n",
    "      FROM train_raw\n",
    "    )\n",
    "    ORDER BY r\n",
    "    LIMIT {N_Q_TRAIN}\n",
    "\"\"\")\n",
    "\n",
    "n_q_train = con.execute(\"SELECT COUNT(*) FROM sample_q_train;\").fetchone()[0]\n",
    "print(\"Уникальных train query_id:\", n_q_train)\n",
    "\n",
    "# случайные 500k уникальных query_id для test\n",
    "con.execute(\"\"\"\n",
    "    CREATE OR REPLACE TEMP TABLE sample_q_test AS\n",
    "    SELECT query_id\n",
    "    FROM (\n",
    "      SELECT DISTINCT query_id, random() AS r\n",
    "      FROM test_raw\n",
    "    )\n",
    "    ORDER BY r\n",
    "\"\"\")\n",
    "\n",
    "n_q_test = con.execute(\"SELECT COUNT(*) FROM sample_q_test;\").fetchone()[0]\n",
    "print(\"Уникальных test query_id:\", n_q_test)\n"
   ]
  },
  {
   "cell_type": "code",
   "execution_count": 7,
   "id": "47ddd201",
   "metadata": {},
   "outputs": [
    {
     "data": {
      "application/vnd.jupyter.widget-view+json": {
       "model_id": "4ba778027efc49bf83211db244896588",
       "version_major": 2,
       "version_minor": 0
      },
      "text/plain": [
       "FloatProgress(value=0.0, layout=Layout(width='auto'), style=ProgressStyle(bar_color='black'))"
      ]
     },
     "metadata": {},
     "output_type": "display_data"
    },
    {
     "ename": "Error",
     "evalue": "KeyboardInterrupt: <EMPTY MESSAGE>\n\nAt:\n  /home/syrenny/Desktop/avito-for-applicant/.venv/lib/python3.10/site-packages/traitlets/traitlets.py(708): __set__\n  /tmp/ipykernel_91571/668717133.py(2): <module>\n  /home/syrenny/Desktop/avito-for-applicant/.venv/lib/python3.10/site-packages/IPython/core/interactiveshell.py(3579): run_code\n  /home/syrenny/Desktop/avito-for-applicant/.venv/lib/python3.10/site-packages/IPython/core/interactiveshell.py(3519): run_ast_nodes\n  /home/syrenny/Desktop/avito-for-applicant/.venv/lib/python3.10/site-packages/IPython/core/interactiveshell.py(3336): run_cell_async\n  /home/syrenny/Desktop/avito-for-applicant/.venv/lib/python3.10/site-packages/IPython/core/async_helpers.py(128): _pseudo_sync_runner\n  /home/syrenny/Desktop/avito-for-applicant/.venv/lib/python3.10/site-packages/IPython/core/interactiveshell.py(3132): _run_cell\n  /home/syrenny/Desktop/avito-for-applicant/.venv/lib/python3.10/site-packages/IPython/core/interactiveshell.py(3077): run_cell\n  /home/syrenny/Desktop/avito-for-applicant/.venv/lib/python3.10/site-packages/ipykernel/zmqshell.py(577): run_cell\n  /home/syrenny/Desktop/avito-for-applicant/.venv/lib/python3.10/site-packages/ipykernel/ipkernel.py(455): do_execute\n  /home/syrenny/Desktop/avito-for-applicant/.venv/lib/python3.10/site-packages/ipykernel/kernelbase.py(767): execute_request\n  /home/syrenny/Desktop/avito-for-applicant/.venv/lib/python3.10/site-packages/ipykernel/ipkernel.py(368): execute_request\n  /home/syrenny/Desktop/avito-for-applicant/.venv/lib/python3.10/site-packages/ipykernel/kernelbase.py(400): dispatch_shell\n  /home/syrenny/Desktop/avito-for-applicant/.venv/lib/python3.10/site-packages/ipykernel/kernelbase.py(508): process_one\n  /home/syrenny/Desktop/avito-for-applicant/.venv/lib/python3.10/site-packages/ipykernel/kernelbase.py(519): dispatch_queue\n  /usr/lib/python3.10/asyncio/events.py(80): _run\n  /usr/lib/python3.10/asyncio/base_events.py(1909): _run_once\n  /usr/lib/python3.10/asyncio/base_events.py(603): run_forever\n  /home/syrenny/Desktop/avito-for-applicant/.venv/lib/python3.10/site-packages/tornado/platform/asyncio.py(211): start\n  /home/syrenny/Desktop/avito-for-applicant/.venv/lib/python3.10/site-packages/ipykernel/kernelapp.py(739): start\n  /home/syrenny/Desktop/avito-for-applicant/.venv/lib/python3.10/site-packages/traitlets/config/application.py(1075): launch_instance\n  /home/syrenny/Desktop/avito-for-applicant/.venv/lib/python3.10/site-packages/ipykernel_launcher.py(18): <module>\n  /usr/lib/python3.10/runpy.py(86): _run_code\n  /usr/lib/python3.10/runpy.py(196): _run_module_as_main\n",
     "output_type": "error",
     "traceback": [
      "\u001b[0;31m---------------------------------------------------------------------------\u001b[0m",
      "\u001b[0;31mError\u001b[0m                                     Traceback (most recent call last)",
      "Cell \u001b[0;32mIn[7], line 2\u001b[0m\n\u001b[1;32m      1\u001b[0m \u001b[38;5;66;03m# TRAIN: только выбранные 500k query_id\u001b[39;00m\n\u001b[0;32m----> 2\u001b[0m \u001b[43mcon\u001b[49m\u001b[38;5;241;43m.\u001b[39;49m\u001b[43mexecute\u001b[49m\u001b[43m(\u001b[49m\u001b[38;5;124;43m\"\"\"\u001b[39;49m\n\u001b[1;32m      3\u001b[0m \u001b[38;5;124;43m    CREATE OR REPLACE TABLE train_fts AS\u001b[39;49m\n\u001b[1;32m      4\u001b[0m \u001b[38;5;124;43m    SELECT\u001b[39;49m\n\u001b[1;32m      5\u001b[0m \u001b[38;5;124;43m        row_number() OVER () AS rid,\u001b[39;49m\n\u001b[1;32m      6\u001b[0m \u001b[38;5;124;43m        r.query_id, r.item_id,\u001b[39;49m\n\u001b[1;32m      7\u001b[0m \u001b[38;5;124;43m        r.query_text,\u001b[39;49m\n\u001b[1;32m      8\u001b[0m \u001b[38;5;124;43m        COALESCE(r.item_title, \u001b[39;49m\u001b[38;5;124;43m'\u001b[39;49m\u001b[38;5;124;43m'\u001b[39;49m\u001b[38;5;124;43m) AS item_title,\u001b[39;49m\n\u001b[1;32m      9\u001b[0m \u001b[38;5;124;43m        COALESCE(r.item_description, \u001b[39;49m\u001b[38;5;124;43m'\u001b[39;49m\u001b[38;5;124;43m'\u001b[39;49m\u001b[38;5;124;43m) AS item_description,\u001b[39;49m\n\u001b[1;32m     10\u001b[0m \u001b[38;5;124;43m        COALESCE(r.item_contact, 0) AS item_contact\u001b[39;49m\n\u001b[1;32m     11\u001b[0m \u001b[38;5;124;43m    FROM train_raw r\u001b[39;49m\n\u001b[1;32m     12\u001b[0m \u001b[38;5;124;43m    JOIN sample_q_train q USING (query_id)\u001b[39;49m\n\u001b[1;32m     13\u001b[0m \u001b[38;5;124;43m\"\"\"\u001b[39;49m\u001b[43m)\u001b[49m\n\u001b[1;32m     15\u001b[0m \u001b[38;5;66;03m# TEST: только выбранные 500k query_id\u001b[39;00m\n\u001b[1;32m     16\u001b[0m con\u001b[38;5;241m.\u001b[39mexecute(\u001b[38;5;124m\"\"\"\u001b[39m\n\u001b[1;32m     17\u001b[0m \u001b[38;5;124m    CREATE OR REPLACE TABLE test_fts AS\u001b[39m\n\u001b[1;32m     18\u001b[0m \u001b[38;5;124m    SELECT\u001b[39m\n\u001b[0;32m   (...)\u001b[0m\n\u001b[1;32m     25\u001b[0m \u001b[38;5;124m    JOIN sample_q_test q USING (query_id)\u001b[39m\n\u001b[1;32m     26\u001b[0m \u001b[38;5;124m\"\"\"\u001b[39m)\n",
      "\u001b[0;31mError\u001b[0m: KeyboardInterrupt: <EMPTY MESSAGE>\n\nAt:\n  /home/syrenny/Desktop/avito-for-applicant/.venv/lib/python3.10/site-packages/traitlets/traitlets.py(708): __set__\n  /tmp/ipykernel_91571/668717133.py(2): <module>\n  /home/syrenny/Desktop/avito-for-applicant/.venv/lib/python3.10/site-packages/IPython/core/interactiveshell.py(3579): run_code\n  /home/syrenny/Desktop/avito-for-applicant/.venv/lib/python3.10/site-packages/IPython/core/interactiveshell.py(3519): run_ast_nodes\n  /home/syrenny/Desktop/avito-for-applicant/.venv/lib/python3.10/site-packages/IPython/core/interactiveshell.py(3336): run_cell_async\n  /home/syrenny/Desktop/avito-for-applicant/.venv/lib/python3.10/site-packages/IPython/core/async_helpers.py(128): _pseudo_sync_runner\n  /home/syrenny/Desktop/avito-for-applicant/.venv/lib/python3.10/site-packages/IPython/core/interactiveshell.py(3132): _run_cell\n  /home/syrenny/Desktop/avito-for-applicant/.venv/lib/python3.10/site-packages/IPython/core/interactiveshell.py(3077): run_cell\n  /home/syrenny/Desktop/avito-for-applicant/.venv/lib/python3.10/site-packages/ipykernel/zmqshell.py(577): run_cell\n  /home/syrenny/Desktop/avito-for-applicant/.venv/lib/python3.10/site-packages/ipykernel/ipkernel.py(455): do_execute\n  /home/syrenny/Desktop/avito-for-applicant/.venv/lib/python3.10/site-packages/ipykernel/kernelbase.py(767): execute_request\n  /home/syrenny/Desktop/avito-for-applicant/.venv/lib/python3.10/site-packages/ipykernel/ipkernel.py(368): execute_request\n  /home/syrenny/Desktop/avito-for-applicant/.venv/lib/python3.10/site-packages/ipykernel/kernelbase.py(400): dispatch_shell\n  /home/syrenny/Desktop/avito-for-applicant/.venv/lib/python3.10/site-packages/ipykernel/kernelbase.py(508): process_one\n  /home/syrenny/Desktop/avito-for-applicant/.venv/lib/python3.10/site-packages/ipykernel/kernelbase.py(519): dispatch_queue\n  /usr/lib/python3.10/asyncio/events.py(80): _run\n  /usr/lib/python3.10/asyncio/base_events.py(1909): _run_once\n  /usr/lib/python3.10/asyncio/base_events.py(603): run_forever\n  /home/syrenny/Desktop/avito-for-applicant/.venv/lib/python3.10/site-packages/tornado/platform/asyncio.py(211): start\n  /home/syrenny/Desktop/avito-for-applicant/.venv/lib/python3.10/site-packages/ipykernel/kernelapp.py(739): start\n  /home/syrenny/Desktop/avito-for-applicant/.venv/lib/python3.10/site-packages/traitlets/config/application.py(1075): launch_instance\n  /home/syrenny/Desktop/avito-for-applicant/.venv/lib/python3.10/site-packages/ipykernel_launcher.py(18): <module>\n  /usr/lib/python3.10/runpy.py(86): _run_code\n  /usr/lib/python3.10/runpy.py(196): _run_module_as_main\n"
     ]
    }
   ],
   "source": [
    "# TRAIN: только выбранные 500k query_id\n",
    "con.execute(\"\"\"\n",
    "    CREATE OR REPLACE TABLE train_fts AS\n",
    "    SELECT\n",
    "        row_number() OVER () AS rid,\n",
    "        r.query_id, r.item_id,\n",
    "        r.query_text,\n",
    "        COALESCE(r.item_title, '') AS item_title,\n",
    "        COALESCE(r.item_description, '') AS item_description,\n",
    "        COALESCE(r.item_contact, 0) AS item_contact\n",
    "    FROM train_raw r\n",
    "    JOIN sample_q_train q USING (query_id)\n",
    "\"\"\")\n",
    "\n",
    "# TEST: только выбранные 500k query_id\n",
    "con.execute(\"\"\"\n",
    "    CREATE OR REPLACE TABLE test_fts AS\n",
    "    SELECT\n",
    "        row_number() OVER () AS rid,\n",
    "        r.query_id, r.item_id,\n",
    "        r.query_text,\n",
    "        COALESCE(r.item_title, '') AS item_title,\n",
    "        COALESCE(r.item_description, '') AS item_description\n",
    "    FROM test_raw r\n",
    "    JOIN sample_q_test q USING (query_id)\n",
    "\"\"\")\n",
    "\n",
    "print(\"train_fts rows:\", con.execute(\"SELECT COUNT(*) FROM train_fts;\").fetchone()[0])\n",
    "print(\"test_fts rows :\", con.execute(\"SELECT COUNT(*) FROM test_fts;\").fetchone()[0])\n"
   ]
  },
  {
   "cell_type": "code",
   "execution_count": null,
   "id": "5eb0c5cd",
   "metadata": {},
   "outputs": [],
   "source": [
    "# подгружаем FTS (если уже подгружено — просто продолжит)\n",
    "try:\n",
    "    con.execute(\"PRAGMA load_extension='fts';\")\n",
    "except Exception as e:\n",
    "    print(\"FTS load note:\", e)\n",
    "\n",
    "# перестраховка: удалим прежние индексы, если были\n",
    "for tbl in (\"train_fts\", \"test_fts\"):\n",
    "    try:\n",
    "        con.execute(f\"PRAGMA drop_fts_index('{tbl}');\")\n",
    "    except Exception:\n",
    "        pass\n",
    "\n",
    "# создаём ОДИН индекс на title и (опционально) desc\n",
    "con.execute(f\"\"\"\n",
    "    PRAGMA create_fts_index(\n",
    "        'train_fts', 'rid',\n",
    "        'item_title', 'item_description',\n",
    "        stemmer='{USE_STEMMER}', stopwords='russian', lower=1, overwrite=1\n",
    "    );\n",
    "\"\"\")\n",
    "\n",
    "con.execute(f\"\"\"\n",
    "    PRAGMA create_fts_index(\n",
    "        'test_fts', 'rid',\n",
    "        'item_title', 'item_description',\n",
    "        stemmer='{USE_STEMMER}', stopwords='russian', lower=1, overwrite=1\n",
    "    );\n",
    "\"\"\")\n",
    "\n",
    "print(\"FTS index created (train/test).\")\n"
   ]
  },
  {
   "cell_type": "code",
   "execution_count": null,
   "id": "893227c8",
   "metadata": {},
   "outputs": [],
   "source": [
    "# в некоторых версиях нужен неймспейс fts_main_<table>; начнём с общего match_bm25\n",
    "def compute_bm25_title(table_name: str):\n",
    "    try:\n",
    "        con.execute(f\"\"\"\n",
    "            CREATE OR REPLACE TABLE {table_name}_bm25 AS\n",
    "            SELECT\n",
    "                t.*,\n",
    "                match_bm25('{table_name}', rid, query_text, fields:='item_title') AS bm25_title\n",
    "            FROM {table_name} t\n",
    "        \"\"\")\n",
    "    except Exception as e1:\n",
    "        print(f\"[{table_name}] generic match_bm25 failed, trying fts_main_*:\", e1)\n",
    "        con.execute(f\"\"\"\n",
    "            CREATE OR REPLACE TABLE {table_name}_bm25 AS\n",
    "            SELECT\n",
    "                t.*,\n",
    "                fts_main_{table_name}.match_bm25(rid, query_text, fields:='item_title') AS bm25_title\n",
    "            FROM {table_name} t\n",
    "        \"\"\")\n",
    "\n",
    "\n",
    "compute_bm25_title(\"train_fts\")\n",
    "compute_bm25_title(\"test_fts\")\n",
    "\n",
    "# z-нормализация BM25 по запросу\n",
    "for name in (\"train_fts_bm25\", \"test_fts_bm25\"):\n",
    "    con.execute(f\"\"\"\n",
    "        CREATE OR REPLACE TABLE {name} AS\n",
    "        SELECT\n",
    "            *,\n",
    "            CAST( (bm25_title - AVG(bm25_title) OVER (PARTITION BY query_id))\n",
    "                  / NULLIF(STDDEV_SAMP(bm25_title) OVER (PARTITION BY query_id), 0)\n",
    "                  AS FLOAT\n",
    "            ) AS bm25_title_z\n",
    "        FROM {name}\n",
    "    \"\"\")\n"
   ]
  },
  {
   "cell_type": "code",
   "execution_count": null,
   "id": "15c5da81",
   "metadata": {},
   "outputs": [],
   "source": [
    "# Top-K по z-скорy BM25 (title)\n",
    "con.execute(f\"\"\"\n",
    "    CREATE OR REPLACE TABLE train_l1_topk AS\n",
    "    WITH ranked AS (\n",
    "        SELECT\n",
    "            *,\n",
    "            ROW_NUMBER() OVER (PARTITION BY query_id ORDER BY bm25_title_z DESC NULLS LAST) AS rk\n",
    "        FROM train_fts_bm25\n",
    "    )\n",
    "    SELECT *\n",
    "    FROM ranked\n",
    "    WHERE rk <= {K} OR item_contact = 1\n",
    "\"\"\")\n",
    "\n",
    "con.execute(f\"\"\"\n",
    "    CREATE OR REPLACE TABLE test_l1_topk AS\n",
    "    WITH ranked AS (\n",
    "        SELECT\n",
    "            *,\n",
    "            ROW_NUMBER() OVER (PARTITION BY query_id ORDER BY bm25_title_z DESC NULLS LAST) AS rk\n",
    "        FROM test_fts_bm25\n",
    "    )\n",
    "    SELECT *\n",
    "    FROM ranked\n",
    "    WHERE rk <= {K}\n",
    "\"\"\")\n",
    "\n",
    "print(\n",
    "    \"train_l1_topk rows:\",\n",
    "    con.execute(\"SELECT COUNT(*) FROM train_l1_topk;\").fetchone()[0],\n",
    ")\n",
    "print(\n",
    "    \"test_l1_topk rows :\",\n",
    "    con.execute(\"SELECT COUNT(*) FROM test_l1_topk;\").fetchone()[0],\n",
    ")\n"
   ]
  },
  {
   "cell_type": "code",
   "execution_count": null,
   "id": "ee699e80",
   "metadata": {},
   "outputs": [],
   "source": [
    "# Recall@K: средняя доля позитивов, попавших в Top-K, среди запросов с >=1 позитивом\n",
    "def recall_at_k(con) -> float:\n",
    "    df = con.execute(\"\"\"\n",
    "        WITH pos AS (\n",
    "            SELECT query_id, SUM(item_contact) AS pos_total\n",
    "            FROM train_fts_bm25\n",
    "            GROUP BY 1\n",
    "        ),\n",
    "        pos_topk AS (\n",
    "            SELECT query_id, SUM(item_contact) AS pos_in_topk\n",
    "            FROM train_l1_topk\n",
    "            GROUP BY 1\n",
    "        )\n",
    "        SELECT p.query_id, p.pos_total, COALESCE(t.pos_in_topk,0) AS pos_in_topk\n",
    "        FROM pos p LEFT JOIN pos_topk t USING(query_id)\n",
    "    \"\"\").df()\n",
    "    df = df[df.pos_total > 0]\n",
    "    return float((df.pos_in_topk / df.pos_total).mean()) if len(df) else float(\"nan\")\n",
    "\n",
    "\n",
    "recall_k = recall_at_k(con)\n",
    "print(f\"Recall@{K} (train, on {n_q_train} queries): {recall_k:.4f}\")\n"
   ]
  },
  {
   "cell_type": "code",
   "execution_count": null,
   "id": "77503035",
   "metadata": {},
   "outputs": [],
   "source": [
    "train_out = os.path.join(OUT_DIR, f\"train_l1_topk_{n_q_train}q.parquet\")\n",
    "test_out = os.path.join(OUT_DIR, f\"test_l1_topk.parquet\")\n",
    "\n",
    "con.execute(f\"\"\"\n",
    "COPY (\n",
    "  SELECT\n",
    "    query_id, item_id,\n",
    "    item_contact,\n",
    "    query_text, item_title, item_description,\n",
    "    bm25_title, bm25_title_z\n",
    "  FROM train_l1_topk\n",
    ") TO '{train_out}' (FORMAT 'parquet');\n",
    "\"\"\")\n",
    "\n",
    "con.execute(f\"\"\"\n",
    "COPY (\n",
    "  SELECT\n",
    "    query_id, item_id,\n",
    "    query_text, item_title, item_description,\n",
    "    bm25_title, bm25_title_z\n",
    "  FROM test_l1_topk\n",
    ") TO '{test_out}' (FORMAT 'parquet');\n",
    "\"\"\")\n",
    "\n",
    "print(\"Saved:\", train_out)\n",
    "print(\"Saved:\", test_out)\n",
    "print(f\"Recall@{K}: {recall_k:.4f}\")\n"
   ]
  }
 ],
 "metadata": {
  "kernelspec": {
   "display_name": ".venv",
   "language": "python",
   "name": "python3"
  },
  "language_info": {
   "codemirror_mode": {
    "name": "ipython",
    "version": 3
   },
   "file_extension": ".py",
   "mimetype": "text/x-python",
   "name": "python",
   "nbconvert_exporter": "python",
   "pygments_lexer": "ipython3",
   "version": "3.10.12"
  }
 },
 "nbformat": 4,
 "nbformat_minor": 5
}
