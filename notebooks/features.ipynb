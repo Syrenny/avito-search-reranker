{
 "cells": [
  {
   "cell_type": "markdown",
   "id": "14415a5c",
   "metadata": {},
   "source": [
    "### Feature Engineering\n",
    "\n",
    "В этом ноутбуке:\n",
    "\n",
    "1. проверю, что в данных есть все нужные колонки;\n",
    "2. добавлю простые и устойчивые признаки:\n",
    "    - `price_log`, `price_norm`, `is_free`;\n",
    "    - клики `click_conv` (с клиппингом выбросов);\n",
    "    - длины текстов, матчи по категориям/локациям;\n",
    "    - TF-IDF косинус между запросом и заголовком (`tfidf_cosine_title`);\n",
    "    - **новое**: `price_rank_in_query`, `q_in_title_frac`, `q_in_desc_frac`, частотные признаки `*_freq`.\n",
    "3. сохраню результат в Parquet.\n"
   ]
  },
  {
   "cell_type": "code",
   "execution_count": 1,
   "id": "542a94eb",
   "metadata": {},
   "outputs": [],
   "source": [
    "import os\n",
    "import re\n",
    "import matplotlib.pyplot as plt\n",
    "import numpy as np\n",
    "import pandas as pd\n",
    "import sys, os\n",
    "\n",
    "sys.path.append(os.path.abspath(\"..\"))\n",
    "plt.rcParams[\"figure.figsize\"] = (8, 4)\n",
    "plt.rcParams[\"axes.grid\"] = True\n",
    "\n",
    "RANDOM_STATE = 42\n",
    "np.random.seed(RANDOM_STATE)\n",
    "\n",
    "DATA_DIR = \"../data/raw\"\n",
    "SAMPLE_PATH = \"../data/transformed/train-sample.parquet\"\n",
    "TEST_PATH = os.path.join(DATA_DIR, \"test-dset-small.parquet\")\n"
   ]
  },
  {
   "cell_type": "markdown",
   "id": "e556cb66",
   "metadata": {},
   "source": [
    "##### Загрузка данных\n"
   ]
  },
  {
   "cell_type": "code",
   "execution_count": 2,
   "id": "4deb3e61",
   "metadata": {},
   "outputs": [
    {
     "name": "stdout",
     "output_type": "stream",
     "text": [
      "OK: columns present in train/test\n"
     ]
    },
    {
     "data": {
      "text/html": [
       "<div>\n",
       "<style scoped>\n",
       "    .dataframe tbody tr th:only-of-type {\n",
       "        vertical-align: middle;\n",
       "    }\n",
       "\n",
       "    .dataframe tbody tr th {\n",
       "        vertical-align: top;\n",
       "    }\n",
       "\n",
       "    .dataframe thead th {\n",
       "        text-align: right;\n",
       "    }\n",
       "</style>\n",
       "<table border=\"1\" class=\"dataframe\">\n",
       "  <thead>\n",
       "    <tr style=\"text-align: right;\">\n",
       "      <th></th>\n",
       "      <th>query_id</th>\n",
       "      <th>item_id</th>\n",
       "      <th>query_text</th>\n",
       "      <th>item_title</th>\n",
       "      <th>item_description</th>\n",
       "      <th>query_cat</th>\n",
       "      <th>query_mcat</th>\n",
       "      <th>query_loc</th>\n",
       "      <th>item_cat_id</th>\n",
       "      <th>item_mcat_id</th>\n",
       "      <th>item_loc</th>\n",
       "      <th>price</th>\n",
       "      <th>item_query_click_conv</th>\n",
       "      <th>item_contact</th>\n",
       "    </tr>\n",
       "  </thead>\n",
       "  <tbody>\n",
       "    <tr>\n",
       "      <th>0</th>\n",
       "      <td>112133</td>\n",
       "      <td>4479307056</td>\n",
       "      <td>памперсы для взрослых</td>\n",
       "      <td>Памперсы для взрослых l 30 штук</td>\n",
       "      <td>несколько упаковок в наличии</td>\n",
       "      <td>88.0</td>\n",
       "      <td>430.0</td>\n",
       "      <td>624030.0</td>\n",
       "      <td>88</td>\n",
       "      <td>430</td>\n",
       "      <td>624030</td>\n",
       "      <td>550.0</td>\n",
       "      <td>0.286</td>\n",
       "      <td>1.0</td>\n",
       "    </tr>\n",
       "    <tr>\n",
       "      <th>1</th>\n",
       "      <td>112133</td>\n",
       "      <td>2531208467</td>\n",
       "      <td>памперсы для взрослых</td>\n",
       "      <td>Памперсы для взрослых Senso</td>\n",
       "      <td>Памперсы для взрослых Senso\\r\\nРазмер Medium</td>\n",
       "      <td>88.0</td>\n",
       "      <td>430.0</td>\n",
       "      <td>624030.0</td>\n",
       "      <td>88</td>\n",
       "      <td>430</td>\n",
       "      <td>624030</td>\n",
       "      <td>450.0</td>\n",
       "      <td>0.000</td>\n",
       "      <td>0.0</td>\n",
       "    </tr>\n",
       "    <tr>\n",
       "      <th>2</th>\n",
       "      <td>112133</td>\n",
       "      <td>4427760183</td>\n",
       "      <td>памперсы для взрослых</td>\n",
       "      <td>Памперсы для взрослых Senso</td>\n",
       "      <td>Подгузники для взрослых. Размер М (70-120 см)....</td>\n",
       "      <td>88.0</td>\n",
       "      <td>430.0</td>\n",
       "      <td>624030.0</td>\n",
       "      <td>88</td>\n",
       "      <td>430</td>\n",
       "      <td>624030</td>\n",
       "      <td>500.0</td>\n",
       "      <td>0.000</td>\n",
       "      <td>0.0</td>\n",
       "    </tr>\n",
       "  </tbody>\n",
       "</table>\n",
       "</div>"
      ],
      "text/plain": [
       "   query_id     item_id             query_text  \\\n",
       "0    112133  4479307056  памперсы для взрослых   \n",
       "1    112133  2531208467  памперсы для взрослых   \n",
       "2    112133  4427760183  памперсы для взрослых   \n",
       "\n",
       "                        item_title  \\\n",
       "0  Памперсы для взрослых l 30 штук   \n",
       "1      Памперсы для взрослых Senso   \n",
       "2      Памперсы для взрослых Senso   \n",
       "\n",
       "                                    item_description  query_cat  query_mcat  \\\n",
       "0                       несколько упаковок в наличии       88.0       430.0   \n",
       "1       Памперсы для взрослых Senso\\r\\nРазмер Medium       88.0       430.0   \n",
       "2  Подгузники для взрослых. Размер М (70-120 см)....       88.0       430.0   \n",
       "\n",
       "   query_loc  item_cat_id  item_mcat_id  item_loc  price  \\\n",
       "0   624030.0           88           430    624030  550.0   \n",
       "1   624030.0           88           430    624030  450.0   \n",
       "2   624030.0           88           430    624030  500.0   \n",
       "\n",
       "   item_query_click_conv  item_contact  \n",
       "0                  0.286           1.0  \n",
       "1                  0.000           0.0  \n",
       "2                  0.000           0.0  "
      ]
     },
     "execution_count": 2,
     "metadata": {},
     "output_type": "execute_result"
    }
   ],
   "source": [
    "sample_df = pd.read_parquet(\n",
    "    SAMPLE_PATH,\n",
    "    engine=\"pyarrow\",\n",
    ")\n",
    "test_df = pd.read_parquet(\n",
    "    TEST_PATH,\n",
    "    engine=\"pyarrow\",\n",
    ")\n",
    "\n",
    "required_columns = [\n",
    "    \"query_id\",\n",
    "    \"item_id\",\n",
    "    \"item_contact\",\n",
    "    \"query_text\",\n",
    "    \"item_title\",\n",
    "    \"item_description\",\n",
    "    \"query_cat\",\n",
    "    \"query_mcat\",\n",
    "    \"query_loc\",\n",
    "    \"item_cat_id\",\n",
    "    \"item_mcat_id\",\n",
    "    \"item_loc\",\n",
    "    \"price\",\n",
    "    \"item_query_click_conv\",\n",
    "]\n",
    "missing_train = [c for c in required_columns if c not in sample_df.columns]\n",
    "missing_test = [\n",
    "    c for c in required_columns if c not in test_df.columns if c != \"item_contact\"\n",
    "]\n",
    "if missing_train:\n",
    "    raise ValueError(f\"sample_df missing columns: {missing_train}\")\n",
    "if missing_test:\n",
    "    raise ValueError(f\"test_df missing columns: {missing_test}\")\n",
    "\n",
    "print(\"OK: columns present in train/test\")\n",
    "\n",
    "sample_df.head(3)\n"
   ]
  },
  {
   "cell_type": "markdown",
   "id": "be9f9783",
   "metadata": {},
   "source": [
    "Мы заранее считаем две вещи **по train**:\n",
    "\n",
    "-   `price_median_cat`: медиана цены в каждой категории — чтобы делать нормировку цены;\n",
    "-   `clip_val` для кликов — 99-й перцентиль, чтобы обрезать выбросы.\n"
   ]
  },
  {
   "cell_type": "code",
   "execution_count": 3,
   "id": "4fd8f98a",
   "metadata": {},
   "outputs": [
    {
     "name": "stdout",
     "output_type": "stream",
     "text": [
      "Lookup ready: price_median_cat (per item_cat_id), clip_val for CTR = 0.2\n"
     ]
    }
   ],
   "source": [
    "# 2.1 Медиана цены по item_cat_id\n",
    "med_price_ser = (\n",
    "    sample_df.groupby(\"item_cat_id\", observed=False)[\"price\"]\n",
    "    .median()\n",
    "    .rename(\"price_median_cat\")\n",
    ")\n",
    "med_price_map = med_price_ser.reset_index()\n",
    "try:\n",
    "    med_price_map[\"item_cat_id\"] = med_price_map[\"item_cat_id\"].astype(\n",
    "        sample_df[\"item_cat_id\"].dtype\n",
    "    )\n",
    "except Exception:\n",
    "    med_price_map[\"item_cat_id\"] = med_price_map[\"item_cat_id\"].astype(\"object\")\n",
    "med_price_map = dict(\n",
    "    zip(\n",
    "        med_price_map[\"item_cat_id\"].astype(\"object\"), med_price_map[\"price_median_cat\"]\n",
    "    )\n",
    ")\n",
    "\n",
    "# 2.2 Клиппинг для CTR (99p)\n",
    "clip_val = float(sample_df[\"item_query_click_conv\"].quantile(0.99))\n",
    "if np.isnan(clip_val):\n",
    "    clip_val = 0.0\n",
    "\n",
    "print(\n",
    "    \"Lookup ready: price_median_cat (per item_cat_id), clip_val for CTR =\",\n",
    "    round(clip_val, 6),\n",
    ")\n"
   ]
  },
  {
   "cell_type": "markdown",
   "id": "87c81f54",
   "metadata": {},
   "source": [
    "##### Функции для добавления фичей\n",
    "\n",
    "-   **Цена**: логарифм, нормализация по медиане категории, флаг бесплатного товара.\n",
    "-   **Клики**: заменяем пропуски на 0 и обрезаем слишком большие значения.\n",
    "-   **Тексты**: добавляем длины (в символах/словах) + доли попаданий токенов запроса.\n",
    "-   **Матчи**: равны ли категории/локации запроса и объявления (1/0).\n",
    "-   **TF-IDF косинус**: похожи ли `query_text` и `item_title`.\n",
    "-   **Внутризапросная цена**: место цены среди соседей (`price_rank_in_query`).\n",
    "-   **Частоты значений**: как часто встречаются категории/локации (частотное кодирование).\n"
   ]
  },
  {
   "cell_type": "code",
   "execution_count": 4,
   "id": "abb6f1bd",
   "metadata": {},
   "outputs": [],
   "source": [
    "from src.features import (\n",
    "    fill_missing_cats,\n",
    "    add_price_features,\n",
    "    add_ctr_features,\n",
    "    add_text_features,\n",
    "    add_match_features,\n",
    "    add_price_in_query_feats,\n",
    "    add_price_z_in_query,\n",
    "    add_tfidf_groupwise_cosine,\n",
    "    add_2d_freq,\n",
    "    add_freq_enc,\n",
    "    tweak_click_conv,\n",
    "    add_basic_interactions,\n",
    "    add_group_norms,\n",
    "    add_initial_rank,\n",
    "    add_tfidf_rank,\n",
    "    add_numeric_and_unit_matches,\n",
    "    add_price_bins_by_category,\n",
    "    add_price_over_median_cat_loc,\n",
    ")"
   ]
  },
  {
   "cell_type": "markdown",
   "id": "e9400d07",
   "metadata": {},
   "source": [
    "Применяю функции к train/test\n"
   ]
  },
  {
   "cell_type": "code",
   "execution_count": 5,
   "id": "79b8cf1f",
   "metadata": {},
   "outputs": [],
   "source": [
    "train_fe = sample_df.copy()\n",
    "test_fe = test_df.copy()"
   ]
  },
  {
   "cell_type": "code",
   "execution_count": 6,
   "id": "3ae5b489",
   "metadata": {},
   "outputs": [],
   "source": [
    "# Заполнение пропущенных категориальных значений \"MISSING\"\n",
    "cat_cols = [\n",
    "    \"query_cat\",\n",
    "    \"query_mcat\",\n",
    "    \"query_loc\",\n",
    "    \"item_cat_id\",\n",
    "    \"item_mcat_id\",\n",
    "    \"item_loc\",\n",
    "]\n",
    "train_fe = fill_missing_cats(train_fe, cat_cols)\n",
    "test_fe = fill_missing_cats(test_fe, cat_cols)\n"
   ]
  },
  {
   "cell_type": "code",
   "execution_count": 7,
   "id": "6e0c87d4",
   "metadata": {},
   "outputs": [
    {
     "name": "stdout",
     "output_type": "stream",
     "text": [
      "[START] add_initial_rank | shape=(342886, 14)\n",
      "[END]   add_initial_rank | shape=(342886, 20) | Δcols=6 | time=0.09s\n",
      "------------------------------------------------------------\n",
      "[START] add_initial_rank | shape=(335348, 13)\n",
      "[END]   add_initial_rank | shape=(335348, 19) | Δcols=6 | time=0.05s\n",
      "------------------------------------------------------------\n"
     ]
    }
   ],
   "source": [
    "# Добавляю исходную позицию в рамках query_id\n",
    "train_fe = add_initial_rank(train_fe)\n",
    "test_fe = add_initial_rank(test_fe)"
   ]
  },
  {
   "cell_type": "code",
   "execution_count": 8,
   "id": "8556c9a7",
   "metadata": {},
   "outputs": [
    {
     "name": "stdout",
     "output_type": "stream",
     "text": [
      "[START] add_price_features | shape=(342886, 20)\n",
      "[END]   add_price_features | shape=(342886, 23) | Δcols=3 | time=0.12s\n",
      "------------------------------------------------------------\n",
      "[START] add_price_features | shape=(335348, 19)\n",
      "[END]   add_price_features | shape=(335348, 22) | Δcols=3 | time=0.11s\n",
      "------------------------------------------------------------\n",
      "[START] add_price_z_in_query | shape=(342886, 23)\n",
      "[END]   add_price_z_in_query | shape=(342886, 24) | Δcols=1 | time=0.03s\n",
      "------------------------------------------------------------\n",
      "[START] add_price_z_in_query | shape=(335348, 22)\n",
      "[END]   add_price_z_in_query | shape=(335348, 23) | Δcols=1 | time=0.02s\n",
      "------------------------------------------------------------\n",
      "[START] add_price_bins_by_category | shape=(342886, 24)\n",
      "[END]   add_price_bins_by_category | shape=(342886, 27) | Δcols=3 | time=0.12s\n",
      "------------------------------------------------------------\n",
      "[START] add_price_bins_by_category | shape=(335348, 23)\n"
     ]
    },
    {
     "name": "stderr",
     "output_type": "stream",
     "text": [
      "/home/syrenny/Desktop/avito-for-applicant/src/features.py:506: FutureWarning: The default of observed=False is deprecated and will be changed to True in a future version of pandas. Pass observed=False to retain current behavior or observed=True to adopt the future default and silence this warning.\n",
      "  grp = out.groupby(cat_col, dropna=False)\n",
      "/home/syrenny/Desktop/avito-for-applicant/src/features.py:506: FutureWarning: The default of observed=False is deprecated and will be changed to True in a future version of pandas. Pass observed=False to retain current behavior or observed=True to adopt the future default and silence this warning.\n",
      "  grp = out.groupby(cat_col, dropna=False)\n"
     ]
    },
    {
     "name": "stdout",
     "output_type": "stream",
     "text": [
      "[END]   add_price_bins_by_category | shape=(335348, 26) | Δcols=3 | time=0.08s\n",
      "------------------------------------------------------------\n",
      "[START] add_price_over_median_cat_loc | shape=(342886, 27)\n",
      "[END]   add_price_over_median_cat_loc | shape=(342886, 28) | Δcols=1 | time=0.07s\n",
      "------------------------------------------------------------\n",
      "[START] add_price_over_median_cat_loc | shape=(335348, 26)\n",
      "[END]   add_price_over_median_cat_loc | shape=(335348, 27) | Δcols=1 | time=0.08s\n",
      "------------------------------------------------------------\n"
     ]
    },
    {
     "name": "stderr",
     "output_type": "stream",
     "text": [
      "/home/syrenny/Desktop/avito-for-applicant/src/features.py:537: FutureWarning: The default of observed=False is deprecated and will be changed to True in a future version of pandas. Pass observed=False to retain current behavior or observed=True to adopt the future default and silence this warning.\n",
      "  grp = out.groupby([cat_col, loc_col], dropna=False)\n",
      "/home/syrenny/Desktop/avito-for-applicant/src/features.py:537: FutureWarning: The default of observed=False is deprecated and will be changed to True in a future version of pandas. Pass observed=False to retain current behavior or observed=True to adopt the future default and silence this warning.\n",
      "  grp = out.groupby([cat_col, loc_col], dropna=False)\n"
     ]
    }
   ],
   "source": [
    "# Добавляю price_log, price_norm, is_free, price_median_cat\n",
    "train_fe = add_price_features(train_fe, med_price_map)\n",
    "test_fe = add_price_features(test_fe, med_price_map)\n",
    "\n",
    "# Добавляю price_z_in_query\n",
    "train_fe = add_price_z_in_query(train_fe)\n",
    "test_fe = add_price_z_in_query(test_fe)\n",
    "\n",
    "train_fe = add_price_bins_by_category(\n",
    "    train_fe, cat_col=\"item_cat_id\", price_col=\"price\"\n",
    ")\n",
    "test_fe = add_price_bins_by_category(test_fe, cat_col=\"item_cat_id\", price_col=\"price\")\n",
    "\n",
    "train_fe = add_price_over_median_cat_loc(\n",
    "    train_fe, cat_col=\"item_cat_id\", loc_col=\"item_loc\", price_col=\"price\"\n",
    ")\n",
    "test_fe = add_price_over_median_cat_loc(\n",
    "    test_fe, cat_col=\"item_cat_id\", loc_col=\"item_loc\", price_col=\"price\"\n",
    ")"
   ]
  },
  {
   "cell_type": "code",
   "execution_count": 9,
   "id": "df06cbb9",
   "metadata": {},
   "outputs": [
    {
     "name": "stdout",
     "output_type": "stream",
     "text": [
      "[START] add_numeric_and_unit_matches | shape=(342886, 28)\n",
      "[END]   add_numeric_and_unit_matches | shape=(342886, 35) | Δcols=7 | time=68.40s\n",
      "------------------------------------------------------------\n",
      "[START] add_numeric_and_unit_matches | shape=(335348, 27)\n",
      "[END]   add_numeric_and_unit_matches | shape=(335348, 34) | Δcols=7 | time=69.79s\n",
      "------------------------------------------------------------\n"
     ]
    }
   ],
   "source": [
    "# Совпадение единиц измерения\n",
    "train_fe = add_numeric_and_unit_matches(train_fe)\n",
    "test_fe = add_numeric_and_unit_matches(test_fe)"
   ]
  },
  {
   "cell_type": "code",
   "execution_count": 10,
   "id": "a56ca4ac",
   "metadata": {},
   "outputs": [
    {
     "name": "stdout",
     "output_type": "stream",
     "text": [
      "[START] add_match_features | shape=(342886, 35)\n",
      "[END]   add_match_features | shape=(342886, 38) | Δcols=3 | time=0.15s\n",
      "------------------------------------------------------------\n",
      "[START] add_match_features | shape=(335348, 34)\n",
      "[END]   add_match_features | shape=(335348, 37) | Δcols=3 | time=0.13s\n",
      "------------------------------------------------------------\n"
     ]
    }
   ],
   "source": [
    "# Совпадение атрибутов\n",
    "train_fe = add_match_features(train_fe)\n",
    "test_fe = add_match_features(test_fe)"
   ]
  },
  {
   "cell_type": "code",
   "execution_count": 11,
   "id": "ab77fcab",
   "metadata": {},
   "outputs": [
    {
     "name": "stdout",
     "output_type": "stream",
     "text": [
      "[START] add_ctr_features | shape=(342886, 38)\n",
      "[END]   add_ctr_features | shape=(342886, 39) | Δcols=1 | time=0.04s\n",
      "------------------------------------------------------------\n",
      "[START] add_ctr_features | shape=(335348, 37)\n",
      "[END]   add_ctr_features | shape=(335348, 38) | Δcols=1 | time=0.03s\n",
      "------------------------------------------------------------\n",
      "[START] tweak_click_conv | shape=(342886, 39)\n",
      "[END]   tweak_click_conv | shape=(342886, 41) | Δcols=2 | time=0.04s\n",
      "------------------------------------------------------------\n",
      "[START] tweak_click_conv | shape=(335348, 38)\n",
      "[END]   tweak_click_conv | shape=(335348, 40) | Δcols=2 | time=0.03s\n",
      "------------------------------------------------------------\n"
     ]
    }
   ],
   "source": [
    "# Популярность\n",
    "train_fe = add_ctr_features(train_fe, clip_val)\n",
    "test_fe = add_ctr_features(test_fe, clip_val)\n",
    "\n",
    "train_fe = tweak_click_conv(train_fe)\n",
    "test_fe = tweak_click_conv(test_fe)"
   ]
  },
  {
   "cell_type": "code",
   "execution_count": 12,
   "id": "17261261",
   "metadata": {},
   "outputs": [
    {
     "name": "stdout",
     "output_type": "stream",
     "text": [
      "[START] add_text_features | shape=(342886, 41)\n"
     ]
    },
    {
     "name": "stdout",
     "output_type": "stream",
     "text": [
      "[END]   add_text_features | shape=(342886, 49) | Δcols=8 | time=27.76s\n",
      "------------------------------------------------------------\n",
      "[START] add_text_features | shape=(335348, 40)\n",
      "[END]   add_text_features | shape=(335348, 48) | Δcols=8 | time=26.76s\n",
      "------------------------------------------------------------\n"
     ]
    }
   ],
   "source": [
    "# Простая лексика: длины текстов, совпадающие токены\n",
    "train_fe = add_text_features(train_fe)\n",
    "test_fe = add_text_features(test_fe)"
   ]
  },
  {
   "cell_type": "code",
   "execution_count": 13,
   "id": "bfb521da",
   "metadata": {},
   "outputs": [
    {
     "name": "stdout",
     "output_type": "stream",
     "text": [
      "[START] add_tfidf_groupwise_cosine | shape=(342886, 49)\n"
     ]
    },
    {
     "name": "stderr",
     "output_type": "stream",
     "text": [
      "TFIDF per query: 100%|██████████| 30000/30000 [04:36<00:00, 108.38it/s]\n"
     ]
    },
    {
     "name": "stdout",
     "output_type": "stream",
     "text": [
      "[END]   add_tfidf_groupwise_cosine | shape=(342886, 51) | Δcols=2 | time=277.22s\n",
      "------------------------------------------------------------\n",
      "[START] add_tfidf_groupwise_cosine | shape=(335348, 48)\n"
     ]
    },
    {
     "name": "stderr",
     "output_type": "stream",
     "text": [
      "TFIDF per query: 100%|██████████| 12505/12505 [02:51<00:00, 72.73it/s]\n"
     ]
    },
    {
     "name": "stdout",
     "output_type": "stream",
     "text": [
      "[END]   add_tfidf_groupwise_cosine | shape=(335348, 50) | Δcols=2 | time=172.21s\n",
      "------------------------------------------------------------\n",
      "[START] add_tfidf_rank | shape=(342886, 51)\n",
      "[END]   add_tfidf_rank | shape=(342886, 52) | Δcols=1 | time=0.12s\n",
      "------------------------------------------------------------\n",
      "[START] add_tfidf_rank | shape=(335348, 50)\n",
      "[END]   add_tfidf_rank | shape=(335348, 51) | Δcols=1 | time=0.10s\n",
      "------------------------------------------------------------\n",
      "[START] add_tfidf_rank | shape=(342886, 52)\n",
      "[END]   add_tfidf_rank | shape=(342886, 52) | Δcols=0 | time=0.15s\n",
      "------------------------------------------------------------\n",
      "[START] add_tfidf_rank | shape=(335348, 51)\n",
      "[END]   add_tfidf_rank | shape=(335348, 51) | Δcols=0 | time=0.12s\n",
      "------------------------------------------------------------\n"
     ]
    }
   ],
   "source": [
    "train_fe = add_tfidf_groupwise_cosine(train_fe, with_desc=True)\n",
    "test_fe = add_tfidf_groupwise_cosine(test_fe, with_desc=True)\n",
    "\n",
    "train_fe = add_tfidf_rank(train_fe, tfidf_col=\"tfidf_cosine_title\")\n",
    "test_fe = add_tfidf_rank(test_fe, tfidf_col=\"tfidf_cosine_title\")\n",
    "\n",
    "train_fe = add_tfidf_rank(train_fe, tfidf_col=\"tfidf_cosine_desc\")\n",
    "test_fe = add_tfidf_rank(test_fe, tfidf_col=\"tfidf_cosine_desc\")"
   ]
  },
  {
   "cell_type": "code",
   "execution_count": 14,
   "id": "bb4ec5fc",
   "metadata": {},
   "outputs": [
    {
     "name": "stdout",
     "output_type": "stream",
     "text": [
      "[START] add_price_in_query_feats | shape=(342886, 52)\n",
      "[END]   add_price_in_query_feats | shape=(342886, 53) | Δcols=1 | time=0.16s\n",
      "------------------------------------------------------------\n",
      "[START] add_price_in_query_feats | shape=(335348, 51)\n",
      "[END]   add_price_in_query_feats | shape=(335348, 52) | Δcols=1 | time=0.08s\n",
      "------------------------------------------------------------\n"
     ]
    }
   ],
   "source": [
    "# Для каждого запроса (query_id) ставит цену объекта в ранг внутри группы (от 0 до 1)\n",
    "train_fe = add_price_in_query_feats(train_fe)\n",
    "test_fe = add_price_in_query_feats(test_fe)"
   ]
  },
  {
   "cell_type": "code",
   "execution_count": 15,
   "id": "fe03bdfe",
   "metadata": {},
   "outputs": [],
   "source": [
    "# Популярность пар признаков\n",
    "train_fe, test_fe = add_2d_freq(\n",
    "    train_fe, test_fe, \"item_cat_id\", \"item_loc\", \"item_cat_loc_freq\"\n",
    ")"
   ]
  },
  {
   "cell_type": "code",
   "execution_count": 16,
   "id": "d337f8f4",
   "metadata": {},
   "outputs": [],
   "source": [
    "# Популярность категорий\n",
    "freq_cols = [\"query_loc\", \"item_loc\", \"item_cat_id\", \"item_mcat_id\"]\n",
    "train_fe, test_fe = add_freq_enc(train_fe, test_fe, freq_cols)"
   ]
  },
  {
   "cell_type": "code",
   "execution_count": 17,
   "id": "52e24e00",
   "metadata": {},
   "outputs": [
    {
     "name": "stdout",
     "output_type": "stream",
     "text": [
      "[START] add_group_norms | shape=(342886, 58)\n",
      "[END]   add_group_norms | shape=(342886, 64) | Δcols=6 | time=0.14s\n",
      "------------------------------------------------------------\n",
      "[START] add_group_norms | shape=(335348, 57)\n",
      "[END]   add_group_norms | shape=(335348, 63) | Δcols=6 | time=0.11s\n",
      "------------------------------------------------------------\n"
     ]
    }
   ],
   "source": [
    "train_fe = add_group_norms(train_fe)\n",
    "test_fe = add_group_norms(test_fe)"
   ]
  },
  {
   "cell_type": "code",
   "execution_count": 18,
   "id": "1ad72a0b",
   "metadata": {},
   "outputs": [
    {
     "name": "stdout",
     "output_type": "stream",
     "text": [
      "[START] add_basic_interactions | shape=(342886, 64)\n",
      "[END]   add_basic_interactions | shape=(342886, 68) | Δcols=4 | time=0.06s\n",
      "------------------------------------------------------------\n",
      "[START] add_basic_interactions | shape=(335348, 63)\n",
      "[END]   add_basic_interactions | shape=(335348, 67) | Δcols=4 | time=0.04s\n",
      "------------------------------------------------------------\n"
     ]
    }
   ],
   "source": [
    "train_fe = add_basic_interactions(train_fe)\n",
    "test_fe = add_basic_interactions(test_fe)"
   ]
  },
  {
   "cell_type": "markdown",
   "id": "bb9c2526",
   "metadata": {},
   "source": [
    "##### Финальные колонки и типы\n",
    "\n",
    "Собираем ID, таргет и все фичи в один датафрейм.  \n",
    "Числа приводим к `float32/int32` — это экономит память.\n"
   ]
  },
  {
   "cell_type": "code",
   "execution_count": 19,
   "id": "9379ce63",
   "metadata": {},
   "outputs": [
    {
     "name": "stdout",
     "output_type": "stream",
     "text": [
      "Train shape: (342886, 68) | Test shape: (335348, 67)\n"
     ]
    }
   ],
   "source": [
    "# таргет → int8 (0/1)\n",
    "train_fe[\"item_contact\"] = train_fe[\"item_contact\"].fillna(0).astype(\"int8\")\n",
    "\n",
    "# даункаст чисел\n",
    "for c in train_fe.columns:\n",
    "    if c == \"item_contact\":\n",
    "        continue\n",
    "    if train_fe[c].dtype == \"float64\":\n",
    "        train_fe[c] = train_fe[c].astype(\"float32\")\n",
    "    if c in test_fe and test_fe[c].dtype == \"float64\":\n",
    "        test_fe[c] = test_fe[c].astype(\"float32\")\n",
    "\n",
    "print(\"Train shape:\", train_fe.shape, \"| Test shape:\", test_fe.shape)\n"
   ]
  },
  {
   "cell_type": "markdown",
   "id": "bc25e140",
   "metadata": {},
   "source": [
    "##### Сохранение\n"
   ]
  },
  {
   "cell_type": "code",
   "execution_count": 20,
   "id": "c763b5ae",
   "metadata": {},
   "outputs": [
    {
     "name": "stdout",
     "output_type": "stream",
     "text": [
      "Saved: ../data/transformed/train-features.parquet\n",
      "Saved: ../data/transformed/test-features.parquet\n"
     ]
    }
   ],
   "source": [
    "OUTPUT_DIR = \"../data/transformed\"\n",
    "os.makedirs(OUTPUT_DIR, exist_ok=True)\n",
    "\n",
    "train_out_path = os.path.join(OUTPUT_DIR, \"train-features.parquet\")\n",
    "test_out_path = os.path.join(OUTPUT_DIR, \"test-features.parquet\")\n",
    "\n",
    "train_fe.to_parquet(train_out_path, index=False)\n",
    "test_fe.to_parquet(test_out_path, index=False)\n",
    "\n",
    "print(\"Saved:\", train_out_path)\n",
    "print(\"Saved:\", test_out_path)\n"
   ]
  },
  {
   "cell_type": "markdown",
   "id": "13793258",
   "metadata": {},
   "source": [
    "##### Получившиеся фичи\n"
   ]
  },
  {
   "cell_type": "code",
   "execution_count": null,
   "id": "f57d92d3",
   "metadata": {},
   "outputs": [
    {
     "data": {
      "text/html": [
       "\n",
       "            <div>\n",
       "                <ins><a href=\"https://ydata.ai/register\">Upgrade to ydata-sdk</a></ins>\n",
       "                <p>\n",
       "                    Improve your data and profiling with ydata-sdk, featuring data quality scoring, redundancy detection, outlier identification, text validation, and synthetic data generation.\n",
       "                </p>\n",
       "            </div>\n",
       "            "
      ],
      "text/plain": [
       "<IPython.core.display.HTML object>"
      ]
     },
     "metadata": {},
     "output_type": "display_data"
    },
    {
     "data": {
      "application/vnd.jupyter.widget-view+json": {
       "model_id": "d87de46702f74040a1dd51b47943c288",
       "version_major": 2,
       "version_minor": 0
      },
      "text/plain": [
       "Summarize dataset:   0%|          | 0/5 [00:00<?, ?it/s]"
      ]
     },
     "metadata": {},
     "output_type": "display_data"
    },
    {
     "name": "stderr",
     "output_type": "stream",
     "text": []
    }
   ],
   "source": [
    "from ydata_profiling import ProfileReport\n",
    "import pandas as pd\n",
    "\n",
    "train_fe = pd.read_parquet(SAMPLE_PATH)\n",
    "ProfileReport(train_fe)"
   ]
  }
 ],
 "metadata": {
  "kernelspec": {
   "display_name": ".venv",
   "language": "python",
   "name": "python3"
  },
  "language_info": {
   "codemirror_mode": {
    "name": "ipython",
    "version": 3
   },
   "file_extension": ".py",
   "mimetype": "text/x-python",
   "name": "python",
   "nbconvert_exporter": "python",
   "pygments_lexer": "ipython3",
   "version": "3.10.12"
  }
 },
 "nbformat": 4,
 "nbformat_minor": 5
}
